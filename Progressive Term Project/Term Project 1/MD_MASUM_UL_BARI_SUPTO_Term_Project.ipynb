{
  "nbformat": 4,
  "nbformat_minor": 0,
  "metadata": {
    "colab": {
      "name": "MD. MASUM - UL - BARI SUPTO - Term_Project.ipynb",
      "provenance": []
    },
    "kernelspec": {
      "name": "python3",
      "display_name": "Python 3"
    },
    "language_info": {
      "name": "python"
    }
  },
  "cells": [
    {
      "cell_type": "markdown",
      "source": [
        "Answer to the question no. 1"
      ],
      "metadata": {
        "id": "qn31y6jAj1Cg"
      }
    },
    {
      "cell_type": "markdown",
      "source": [
        "Name of the software will be 'Air Help'\n",
        "To get the boarding pass a person needs to enter his name, address, destination and other necessary personal information."
      ],
      "metadata": {
        "id": "P1jDH4YfxCWV"
      }
    },
    {
      "cell_type": "markdown",
      "source": [
        "Answer to the question no. 2"
      ],
      "metadata": {
        "id": "cLEkCQJQj44n"
      }
    },
    {
      "cell_type": "code",
      "source": [
        "name = input(\"Whats your name ? : \")   #User needs to enter his name here.\n",
        "ticket = input(\"What's your ticket number? : \")   #User needs to submit his ticket number accurately \n",
        "place = input(\"Where is your destination : \"  )   #User needs to submit his destination \n",
        "luggage = input(\"How many luggages are you carrying ? : \")  #User needs to submit the number of luggage he is carrying with \n"
      ],
      "metadata": {
        "id": "Z18PAJMZx9c9"
      },
      "execution_count": null,
      "outputs": []
    },
    {
      "cell_type": "markdown",
      "source": [
        "Answer to the question no. 3"
      ],
      "metadata": {
        "id": "BLzbjKzfiwoE"
      }
    },
    {
      "cell_type": "code",
      "source": [
        "name = input(\"What's you name? : \")\n",
        "num = int(input(\"What's your ticket number? : \"))\n",
        "place = input(\"Where is your destination? : \")\n",
        "if place.lower()== \"dubai\" :\n",
        "  print(\"Welcome to Qatar Airways. Enjoy your ride! \")\n",
        "else:\n",
        "    print(\"Sorry! Please contact the help desk! You are in the wrong counter. \")"
      ],
      "metadata": {
        "id": "ez11QC6UivQm"
      },
      "execution_count": null,
      "outputs": []
    },
    {
      "cell_type": "markdown",
      "source": [
        "Answer to the question no.4"
      ],
      "metadata": {
        "id": "xZjpP2HmjJN-"
      }
    },
    {
      "cell_type": "code",
      "source": [
        "#I was absent on the loop class. So I could not solve this. "
      ],
      "metadata": {
        "id": "Pv3BoaFs2Ofr"
      },
      "execution_count": null,
      "outputs": []
    },
    {
      "cell_type": "markdown",
      "source": [
        "Answer to the question no. 5"
      ],
      "metadata": {
        "id": "H45-wdQlgv3F"
      }
    },
    {
      "cell_type": "code",
      "source": [
        "num1 = 2\n",
        "num = int(input(\"How many baggages do you have? : \"))\n",
        "\n",
        "if num > num1:\n",
        "  print(\"Your baggages are over limit. You'll need to pay the additional fees. \")\n",
        "  num = num - 2\n",
        "  num = num * 200\n",
        "  print(f\"You'll need to pay {num} BDT as extra charage\")\n",
        "else:\n",
        "  print(\"You don’t need to pay any extra fees. Have a great journey! \")\n"
      ],
      "metadata": {
        "id": "gBvD9Kx0g0EM"
      },
      "execution_count": null,
      "outputs": []
    }
  ]
}