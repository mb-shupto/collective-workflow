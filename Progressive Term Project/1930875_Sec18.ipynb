{
  "nbformat": 4,
  "nbformat_minor": 0,
  "metadata": {
    "colab": {
      "name": "1930875_Sec18.ipynb",
      "provenance": []
    },
    "kernelspec": {
      "name": "python3",
      "display_name": "Python 3"
    },
    "language_info": {
      "name": "python"
    }
  },
  "cells": [
    {
      "cell_type": "markdown",
      "source": [
        "# Project Python\n",
        "# Name: Md. Masum-Ul-Bari Supto\n",
        "# ID: 1930875\n",
        "# Section: 18\n"
      ],
      "metadata": {
        "id": "GFIE2uIycijV"
      }
    },
    {
      "cell_type": "markdown",
      "source": [
        "# **Anser to the question no. 6**"
      ],
      "metadata": {
        "id": "Viiuv6taq-uD"
      }
    },
    {
      "cell_type": "code",
      "source": [
        "passenger_info = [['01', 'Steven', 55, 'London', 'Musician'],['02', 'Mikael', 57, 'Sweden', 'Musician'],['03', 'Thom', 58, 'Texas' 'Musician'],['04', 'Chino', 52, 'California', 'Musician'],['05', 'Maynard', 56, 'Ohio', 'Musician'],['06', 'Benjamin', 52, 'New Jersey', 'Musician'],['07', 'Geffen', 57, 'Israel', 'Musician'],['08', 'Gontier', 54, 'Ontario', 'Musician'],['09', 'Heafy', 48, 'Florida', 'Musician' ],['10', 'Shadows', 53, 'California','Musician'],['11', 'Sumon', 49,'Dhaka', 'Musician'],['12', 'Alex', 35, 'Dubai', 'Teacher'],['13', 'Martian', 25, 'Kolkata','Student'],['14', 'Smith', 35, 'Melbourne', 'Actor'],['15', 'Lincoln', 45,'Dubai', 'Lawyer'], ['16', 'Padget', 28, 'Sydney', 'Doctor'],['17','Bravo', 40,'Trinidad', 'Dancer'],['18','Akmal', 32,'Lahore','Actor'],['19','Brendon',42,'Wellington','Coach'],['20','Ameer', 36,'Lahore', 'Lawyer'],['21','Ahmed', 22,'Rajshahi','Student'],['22','Karim', 27,'Dubai','Teaher'],['23','Rahim',35,'Dhaka','Sportsman'],['24','Hales', 40,'Delhi','Businessman'],['25','Tasrif',29,'Dhaka','Student']]"
      ],
      "metadata": {
        "id": "f-lmbw69HMSd"
      },
      "execution_count": null,
      "outputs": []
    },
    {
      "cell_type": "markdown",
      "source": [
        "Python 2D list was created instead of python 1D list. Because, we can't organize each of the information separately as we want for 25 dfferent passengers through 1D list. By 2D list, we can call them separately. "
      ],
      "metadata": {
        "id": "I6zOBFRPdNDI"
      }
    },
    {
      "cell_type": "markdown",
      "source": [],
      "metadata": {
        "id": "JcshOS7glmUI"
      }
    },
    {
      "cell_type": "markdown",
      "source": [
        "# **Answer to te question no. 7** "
      ],
      "metadata": {
        "id": "hnOtWbXuAd2O"
      }
    },
    {
      "cell_type": "code",
      "source": [
        "def baggage_checker(bag):\n",
        "  num1 = 2\n",
        "  if bag>num1:\n",
        "    print(\"Your baggages are over limit. You'll need to pay the additional fees.\")\n",
        "    bag = bag - 2\n",
        "    fees = bag * 200\n",
        "    print(f\"You'll need to pay {fees} BDT as extra charge\")\n",
        "  else:  \n",
        "    print(f\"You don't need to pay any extra fees. Have a good journey!\")\n",
        "\n",
        "num = int(input(\"how many baggages do you have? : \"))\n",
        "baggage_checker(num)"
      ],
      "metadata": {
        "id": "VOZ2WDK4alXo"
      },
      "execution_count": null,
      "outputs": []
    },
    {
      "cell_type": "markdown",
      "source": [
        "# Answer to the queston no. 9\n",
        "\n"
      ],
      "metadata": {
        "id": "iYqfuQxPkNZ_"
      }
    },
    {
      "cell_type": "markdown",
      "source": [
        "We named this software, because it's an user-friendly interface. Next, we gathered some ideas, the basic rules and tasks a person needs to follow to get the boarding pass. Next, we added some variables to collect and store for the software and write down their names.On the next step, we added an user interface with python conditional statements that asks the passenger their name,address and destination. To know,If their destination is Dubai or not.If not, then they can claim their  services from the right counter.Then we got this more simpler way implying python loops and kept the procedure running for 25 people. Then, on the next step we added another conditional statement implementation. if passenger is going to Dubai, then we asked them how many luggages they're carrying out. Upto two baggages, they won't need to pay extra charge. If the baggages are over limit, then passenger will need to pay  200 USD for each baggages. Then, we added a 2D list of information, that includes name, address, age and profession of 25 people which is much better than the 1D version. Next, we collected the same information from question 3 and executed the code using defined function. So, that's what we did for the software report. Thank you!"
      ],
      "metadata": {
        "id": "qvW8jEA0kOLe"
      }
    }
  ]
}